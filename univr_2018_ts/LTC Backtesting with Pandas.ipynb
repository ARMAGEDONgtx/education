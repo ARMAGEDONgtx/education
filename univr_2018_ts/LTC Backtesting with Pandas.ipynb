{
 "cells": [
  {
   "cell_type": "code",
   "execution_count": 1,
   "metadata": {},
   "outputs": [
    {
     "name": "stderr",
     "output_type": "stream",
     "text": [
      "/anaconda2/lib/python2.7/site-packages/h5py/__init__.py:34: FutureWarning: Conversion of the second argument of issubdtype from `float` to `np.floating` is deprecated. In future, it will be treated as `np.float64 == np.dtype(float).type`.\n",
      "  from ._conv import register_converters as _register_converters\n",
      "Using TensorFlow backend.\n"
     ]
    }
   ],
   "source": [
    "from backtest import *\n",
    "import numpy as np\n",
    "import pandas as pd\n",
    "import matplotlib.pylab as plt\n",
    "\n",
    "from keras.models import Sequential\n",
    "from keras.models import Model\n",
    "from keras.layers.core import Dense, Dropout, Activation, Flatten, Permute, Reshape\n",
    "from keras.layers import Merge, Input, concatenate, GaussianNoise\n",
    "from keras.layers.recurrent import LSTM, GRU, SimpleRNN\n",
    "from keras.layers import Convolution1D, MaxPooling1D, GlobalAveragePooling1D, GlobalMaxPooling1D, RepeatVector, AveragePooling1D\n",
    "from keras.callbacks import ModelCheckpoint, ReduceLROnPlateau, CSVLogger, EarlyStopping\n",
    "from keras.layers.wrappers import Bidirectional, TimeDistributed\n",
    "from keras import regularizers\n",
    "from keras.layers.normalization import BatchNormalization\n",
    "from keras.layers.advanced_activations import *\n",
    "from keras.optimizers import RMSprop, Adam, SGD, Nadam\n",
    "from keras.initializers import *\n",
    "from keras.constraints import *\n",
    "from keras import regularizers\n",
    "from keras import losses\n",
    "\n",
    "from sklearn.metrics import r2_score\n",
    "from sklearn.metrics import confusion_matrix\n",
    "from sklearn.metrics import classification_report\n",
    "from sklearn.metrics import matthews_corrcoef"
   ]
  },
  {
   "cell_type": "code",
   "execution_count": 2,
   "metadata": {
    "collapsed": true
   },
   "outputs": [],
   "source": [
    "symbol = 'LTC1518'\n",
    "bars = pd.read_csv('./data/%s.csv' % symbol, header=0, parse_dates=['Date'])"
   ]
  },
  {
   "cell_type": "code",
   "execution_count": 3,
   "metadata": {
    "collapsed": true
   },
   "outputs": [],
   "source": [
    "START_TRAIN_DATE = '2015-01-01'\n",
    "END_TRAIN_DATE = '2017-12-31'\n",
    "START_TEST_DATE = '2018-01-01'\n",
    "END_TEST_DATE = '2018-03-09'\n",
    "LOOKBACK = 7\n",
    "STEP = 1\n",
    "# FORECAST = 1\n",
    "INIT_CAPITAL = 10000\n",
    "STAKE = 10"
   ]
  },
  {
   "cell_type": "code",
   "execution_count": 4,
   "metadata": {
    "collapsed": true
   },
   "outputs": [],
   "source": [
    "train_set = bars[(bars['Date'] > START_TRAIN_DATE) & (bars['Date'] < END_TRAIN_DATE)]"
   ]
  },
  {
   "cell_type": "code",
   "execution_count": 5,
   "metadata": {
    "collapsed": true
   },
   "outputs": [],
   "source": [
    "test_set = bars[(bars['Date'] > START_TEST_DATE) & (bars['Date'] < END_TEST_DATE)]"
   ]
  },
  {
   "cell_type": "code",
   "execution_count": 6,
   "metadata": {},
   "outputs": [],
   "source": [
    "def create_dataset(data):\n",
    "    \n",
    "    highp = pd.to_numeric(data.ix[:, 'High'])\n",
    "    lowp = pd.to_numeric(data.ix[:, 'Low'])\n",
    "    openp = pd.to_numeric(data.ix[:, 'Open'])\n",
    "    closep = pd.to_numeric(data.ix[:, 'Close'])\n",
    "    tradesp = pd.to_numeric(data.ix[:, 'Trades'])\n",
    "    volumep = pd.to_numeric(data.ix[:, 'Volume'])\n",
    "\n",
    "    normal_close = closep.values.tolist()\n",
    "    normal_open = openp.values.tolist()\n",
    "\n",
    "    highp = highp.pct_change().replace(np.nan, 0).replace(np.inf, 0).values.tolist()\n",
    "    lowp = lowp.pct_change().replace(np.nan, 0).replace(np.inf, 0).values.tolist()\n",
    "    openp = openp.pct_change().replace(np.nan, 0).replace(np.inf, 0).values.tolist()\n",
    "    closep = closep.pct_change().replace(np.nan, 0).replace(np.inf, 0).values.tolist()\n",
    "    tradesp = tradesp.pct_change().replace(np.nan, 0).replace(np.inf, 0).values.tolist()\n",
    "    volumep = volumep.pct_change().replace(np.nan, 0).replace(np.inf, 0).values.tolist()\n",
    "\n",
    "    X, Y = [], []\n",
    "    \n",
    "    for i in range(0, len(data), STEP): \n",
    "        try:\n",
    "            o = openp[i:i+LOOKBACK]\n",
    "            h = highp[i:i+LOOKBACK]\n",
    "            l = lowp[i:i+LOOKBACK]\n",
    "            c = closep[i:i+LOOKBACK]\n",
    "            v = volumep[i:i+LOOKBACK]\n",
    "            t = tradesp[i:i+LOOKBACK]\n",
    "            \n",
    "            prev_p = normal_open[i+LOOKBACK] \n",
    "            next_p = normal_close[i+LOOKBACK]            \n",
    "            \n",
    "            y_i = (next_p - prev_p) / prev_p\n",
    "            y_i = 1 if y_i > 0 else 0\n",
    "            x_i = np.column_stack((o, h, l, c, v, t))\n",
    "    \n",
    "        except Exception as e:\n",
    "            break\n",
    "\n",
    "        X.append(x_i)\n",
    "        Y.append(y_i)\n",
    "\n",
    "    X, Y = np.array(X), np.array(Y)\n",
    "    return X, Y"
   ]
  },
  {
   "cell_type": "code",
   "execution_count": 7,
   "metadata": {},
   "outputs": [],
   "source": [
    "X_train, Y_train = create_dataset(train_set)\n",
    "X_test, Y_test = create_dataset(test_set)"
   ]
  },
  {
   "cell_type": "code",
   "execution_count": 8,
   "metadata": {
    "collapsed": true
   },
   "outputs": [],
   "source": [
    "def plot_history(history):\n",
    "    # summarize history for accuracy\n",
    "    plt.subplot(2, 1, 1)\n",
    "    plt.plot(history.history['acc'])\n",
    "    plt.plot(history.history['val_acc'])\n",
    "    plt.axhline(y=0.5, color='grey', linestyle='--')\n",
    "    plt.title('model accuracy')\n",
    "    plt.ylabel('accuracy')\n",
    "    plt.xlabel('epoch')\n",
    "    plt.legend(['train', 'test'], loc='upper left')\n",
    "    plt.show()\n",
    "    # summarize history for loss\n",
    "    plt.subplot(2, 1, 2)\n",
    "    plt.plot(history.history['loss'])\n",
    "    plt.plot(history.history['val_loss'])\n",
    "    plt.axhline(y=0.693, color='grey', linestyle='--')\n",
    "    plt.title('model loss')\n",
    "    plt.ylabel('loss')\n",
    "    plt.xlabel('epoch')\n",
    "    plt.legend(['train', 'test'], loc='upper left')\n",
    "    plt.show()"
   ]
  },
  {
   "cell_type": "code",
   "execution_count": 9,
   "metadata": {
    "collapsed": true
   },
   "outputs": [],
   "source": [
    "def get_lr_model(x1, x2):\n",
    "    main_input = Input(shape=(x1, x2, ), name='main_input')\n",
    "    x = GaussianNoise(0.01)(main_input)\n",
    "    x = Flatten()(x)\n",
    "    x = BatchNormalization()(x)\n",
    "    x = Dense(16, activation = 'relu')(x)\n",
    "    x = Dropout(0.5)(x)\n",
    "    output = Dense(1, activation = \"sigmoid\", name = \"out\")(x)\n",
    "    final_model = Model(inputs=[main_input], outputs=[output])\n",
    "    final_model.compile(optimizer=Adam(lr=0.001, amsgrad=True),  loss='binary_crossentropy', metrics = ['accuracy'])\n",
    "    return final_model"
   ]
  },
  {
   "cell_type": "code",
   "execution_count": 10,
   "metadata": {},
   "outputs": [
    {
     "name": "stdout",
     "output_type": "stream",
     "text": [
      "_________________________________________________________________\n",
      "Layer (type)                 Output Shape              Param #   \n",
      "=================================================================\n",
      "main_input (InputLayer)      (None, 7, 6)              0         \n",
      "_________________________________________________________________\n",
      "gaussian_noise_1 (GaussianNo (None, 7, 6)              0         \n",
      "_________________________________________________________________\n",
      "flatten_1 (Flatten)          (None, 42)                0         \n",
      "_________________________________________________________________\n",
      "batch_normalization_1 (Batch (None, 42)                168       \n",
      "_________________________________________________________________\n",
      "dense_1 (Dense)              (None, 16)                688       \n",
      "_________________________________________________________________\n",
      "dropout_1 (Dropout)          (None, 16)                0         \n",
      "_________________________________________________________________\n",
      "out (Dense)                  (None, 1)                 17        \n",
      "=================================================================\n",
      "Total params: 873\n",
      "Trainable params: 789\n",
      "Non-trainable params: 84\n",
      "_________________________________________________________________\n"
     ]
    },
    {
     "data": {
      "image/png": "[encoded data removed]",
      "text/plain": [
       "<matplotlib.figure.Figure at 0x11bf87950>"
      ]
     },
     "metadata": {},
     "output_type": "display_data"
    },
    {
     "data": {
      "image/png": "[encoded data removed]",
      "text/plain": [
       "<matplotlib.figure.Figure at 0x11c758bd0>"
      ]
     },
     "metadata": {},
     "output_type": "display_data"
    },
    {
     "name": "stdout",
     "output_type": "stream",
     "text": [
      "MATTHEWS CORRELATION\n",
      "-0.07800195311412261\n",
      "CONFUSION MATRIX\n",
      "[[0.38709677 0.67857143]\n",
      " [0.41935484 0.53571429]]\n",
      "CLASSIFICATION REPORT\n",
      "             precision    recall  f1-score   support\n",
      "\n",
      "          0       0.48      0.39      0.43        31\n",
      "          1       0.44      0.54      0.48        28\n",
      "\n",
      "avg / total       0.46      0.46      0.45        59\n",
      "\n",
      "--------------------\n"
     ]
    }
   ],
   "source": [
    "reduce_lr = ReduceLROnPlateau(monitor='val_loss', factor=0.9, patience=50, min_lr=0.000001, verbose=0)\n",
    "checkpointer = ModelCheckpoint(filepath=\"testtest.hdf5\", verbose=0, save_best_only=True)\n",
    "es = EarlyStopping(patience=100)\n",
    "\n",
    "model = get_lr_model(X_train.shape[1], X_train.shape[-1])\n",
    "# model = get_model(X_train.shape[1], X_train.shape[-1])\n",
    "model.summary()\n",
    "\n",
    "history = model.fit(X_train, Y_train, \n",
    "              epochs = 1000, \n",
    "              batch_size = 64, \n",
    "              verbose=0, \n",
    "              validation_data=(X_test, Y_test),\n",
    "              callbacks=[reduce_lr, checkpointer, es],\n",
    "              shuffle=True)\n",
    "\n",
    "model.load_weights('testtest.hdf5')\n",
    "pred = model.predict(X_test)\n",
    "plot_history(history)\n",
    "\n",
    "pred = [1 if p > 0.5 else 0 for p in pred]\n",
    "C = confusion_matrix(Y_test, pred)\n",
    "\n",
    "print 'MATTHEWS CORRELATION'\n",
    "print matthews_corrcoef(Y_test, pred)\n",
    "print 'CONFUSION MATRIX'\n",
    "print(C / C.astype(np.float).sum(axis=1))\n",
    "print 'CLASSIFICATION REPORT'\n",
    "print classification_report(Y_test, pred)\n",
    "print '-' * 20"
   ]
  },
  {
   "cell_type": "code",
   "execution_count": null,
   "metadata": {
    "collapsed": true
   },
   "outputs": [],
   "source": []
  },
  {
   "cell_type": "code",
   "execution_count": 11,
   "metadata": {
    "collapsed": true
   },
   "outputs": [],
   "source": [
    "pred = [1 if p == 1 else -1 for p in pred] # we need to change NN's 0 output to -1 for our strategy\n",
    "pred = [0.] * (LOOKBACK) + pred"
   ]
  },
  {
   "cell_type": "code",
   "execution_count": 12,
   "metadata": {
    "collapsed": true
   },
   "outputs": [],
   "source": [
    "class MachineLearningForecastingStrategy(Strategy):   \n",
    "    \n",
    "    def __init__(self, symbol, bars, pred):\n",
    "        self.symbol = symbol\n",
    "        self.bars = bars\n",
    "\n",
    "    def generate_signals(self):\n",
    "        signals = pd.DataFrame(index=self.bars.index)\n",
    "        signals['signal'] = pred\n",
    "        return signals"
   ]
  },
  {
   "cell_type": "code",
   "execution_count": 13,
   "metadata": {},
   "outputs": [],
   "source": [
    "rfs = MachineLearningForecastingStrategy('LTC', test_set, pred)\n",
    "signals = rfs.generate_signals()\n",
    "portfolio = MarketIntradayPortfolio('LTC', test_set, signals, INIT_CAPITAL, STAKE)\n",
    "returns = portfolio.backtest_portfolio()"
   ]
  },
  {
   "cell_type": "code",
   "execution_count": 14,
   "metadata": {},
   "outputs": [
    {
     "data": {
      "image/png": "[encoded data removed]",
      "text/plain": [
       "<matplotlib.figure.Figure at 0x10e954850>"
      ]
     },
     "metadata": {},
     "output_type": "display_data"
    }
   ],
   "source": [
    "plt.figure()\n",
    "plt.plot(returns['total'].pct_change().cumsum())\n",
    "plt.plot(test_set['Close'].pct_change().cumsum(), linestyle = '--')\n",
    "plt.show()"
   ]
  },
  {
   "cell_type": "code",
   "execution_count": 15,
   "metadata": {},
   "outputs": [
    {
     "data": {
      "text/html": [
       "<div>\n",
       "<table border=\"1\" class=\"dataframe\">\n",
       "  <thead>\n",
       "    <tr style=\"text-align: right;\">\n",
       "      <th></th>\n",
       "      <th>price_diff</th>\n",
       "      <th>profit</th>\n",
       "      <th>total</th>\n",
       "      <th>returns</th>\n",
       "    </tr>\n",
       "  </thead>\n",
       "  <tbody>\n",
       "    <tr>\n",
       "      <th>1118</th>\n",
       "      <td>3.55</td>\n",
       "      <td>35.5</td>\n",
       "      <td>9893.6</td>\n",
       "      <td>0.003601</td>\n",
       "    </tr>\n",
       "    <tr>\n",
       "      <th>1119</th>\n",
       "      <td>-3.47</td>\n",
       "      <td>-34.7</td>\n",
       "      <td>9858.9</td>\n",
       "      <td>-0.003507</td>\n",
       "    </tr>\n",
       "    <tr>\n",
       "      <th>1120</th>\n",
       "      <td>-13.88</td>\n",
       "      <td>-138.8</td>\n",
       "      <td>9720.1</td>\n",
       "      <td>-0.014079</td>\n",
       "    </tr>\n",
       "    <tr>\n",
       "      <th>1121</th>\n",
       "      <td>-11.05</td>\n",
       "      <td>-110.5</td>\n",
       "      <td>9609.6</td>\n",
       "      <td>-0.011368</td>\n",
       "    </tr>\n",
       "    <tr>\n",
       "      <th>1122</th>\n",
       "      <td>-10.11</td>\n",
       "      <td>-101.1</td>\n",
       "      <td>9508.5</td>\n",
       "      <td>-0.010521</td>\n",
       "    </tr>\n",
       "  </tbody>\n",
       "</table>\n",
       "</div>"
      ],
      "text/plain": [
       "      price_diff  profit   total   returns\n",
       "1118        3.55    35.5  9893.6  0.003601\n",
       "1119       -3.47   -34.7  9858.9 -0.003507\n",
       "1120      -13.88  -138.8  9720.1 -0.014079\n",
       "1121      -11.05  -110.5  9609.6 -0.011368\n",
       "1122      -10.11  -101.1  9508.5 -0.010521"
      ]
     },
     "execution_count": 15,
     "metadata": {},
     "output_type": "execute_result"
    }
   ],
   "source": [
    "returns.tail()"
   ]
  },
  {
   "cell_type": "code",
   "execution_count": null,
   "metadata": {
    "collapsed": true
   },
   "outputs": [],
   "source": []
  },
  {
   "cell_type": "code",
   "execution_count": null,
   "metadata": {
    "collapsed": true
   },
   "outputs": [],
   "source": []
  }
 ],
 "metadata": {
  "kernelspec": {
   "display_name": "Python 2",
   "language": "python",
   "name": "python2"
  },
  "language_info": {
   "codemirror_mode": {
    "name": "ipython",
    "version": 2
   },
   "file_extension": ".py",
   "mimetype": "text/x-python",
   "name": "python",
   "nbconvert_exporter": "python",
   "pygments_lexer": "ipython2",
   "version": "2.7.14"
  }
 },
 "nbformat": 4,
 "nbformat_minor": 2
}
