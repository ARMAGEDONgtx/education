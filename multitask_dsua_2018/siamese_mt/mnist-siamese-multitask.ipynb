{
 "cells": [
  {
   "cell_type": "code",
   "execution_count": 1,
   "metadata": {},
   "outputs": [
    {
     "name": "stderr",
     "output_type": "stream",
     "text": [
      "/anaconda2/lib/python2.7/site-packages/h5py/__init__.py:34: FutureWarning: Conversion of the second argument of issubdtype from `float` to `np.floating` is deprecated. In future, it will be treated as `np.float64 == np.dtype(float).type`.\n",
      "  from ._conv import register_converters as _register_converters\n",
      "Using TensorFlow backend.\n"
     ]
    }
   ],
   "source": [
    "import numpy as np\n",
    "\n",
    "import random\n",
    "from keras.datasets import mnist\n",
    "from keras.models import Model\n",
    "from keras.layers import Input, Flatten, Dense, Dropout, Lambda\n",
    "from keras.optimizers import RMSprop\n",
    "from keras import backend as K\n",
    "from keras.utils import to_categorical\n",
    "\n",
    "num_classes = 10"
   ]
  },
  {
   "cell_type": "code",
   "execution_count": 2,
   "metadata": {
    "collapsed": true
   },
   "outputs": [],
   "source": [
    "random.seed(42)\n",
    "np.random.seed(42)"
   ]
  },
  {
   "cell_type": "markdown",
   "metadata": {},
   "source": [
    "# Needed routines"
   ]
  },
  {
   "cell_type": "code",
   "execution_count": 3,
   "metadata": {
    "collapsed": true
   },
   "outputs": [],
   "source": [
    "def euclidean_distance(vects):\n",
    "    x, y = vects\n",
    "    sum_square = K.sum(K.square(x - y), axis=1, keepdims=True)\n",
    "    return K.sqrt(K.maximum(sum_square, K.epsilon()))\n",
    "\n",
    "\n",
    "def eucl_dist_output_shape(shapes):\n",
    "    shape1, shape2 = shapes\n",
    "    return (shape1[0], 1)\n",
    "\n",
    "\n",
    "def contrastive_loss(y_true, y_pred):\n",
    "    '''Contrastive loss from Hadsell-et-al.'06\n",
    "    http://yann.lecun.com/exdb/publis/pdf/hadsell-chopra-lecun-06.pdf\n",
    "    '''\n",
    "    margin = 1\n",
    "    sqaure_pred = K.square(y_pred)\n",
    "    margin_square = K.square(K.maximum(margin - y_pred, 0))\n",
    "    return K.mean(y_true * sqaure_pred + (1 - y_true) * margin_square)\n",
    "\n",
    "\n",
    "def create_pairs_multitask(x, digit_indices):\n",
    "    '''Positive and negative pair creation.\n",
    "    Alternates between positive and negative pairs.\n",
    "    '''\n",
    "    pairs = []\n",
    "    labels = []\n",
    "    class_1, class_2 = [], []\n",
    "    n = min([len(digit_indices[d]) for d in range(num_classes)]) - 1\n",
    "    for d in range(num_classes):\n",
    "        for i in range(n):\n",
    "            z1, z2 = digit_indices[d][i], digit_indices[d][i + 1]\n",
    "            pairs += [[x[z1], x[z2]]] # created same class\n",
    "            inc = random.randrange(1, num_classes)\n",
    "            dn = (d + inc) % num_classes # took next\n",
    "            z1, z2 = digit_indices[d][i], digit_indices[dn][i] \n",
    "            pairs += [[x[z1], x[z2]]] # created different classes\n",
    "            labels += [1, 0] # added \"same\" and \"different\"\n",
    "            class_1 += [d, d]\n",
    "            class_2 += [d, dn]\n",
    "    return np.array(pairs), np.array(labels), np.array(class_1), np.array(class_2)"
   ]
  },
  {
   "cell_type": "code",
   "execution_count": 4,
   "metadata": {
    "collapsed": true
   },
   "outputs": [],
   "source": [
    "def create_base_network(input_shape):\n",
    "    '''Base network to be shared (eq. to feature extraction).\n",
    "    '''\n",
    "    input = Input(shape=input_shape)\n",
    "    x = Flatten()(input)\n",
    "    x = Dense(64, activation='relu')(x)\n",
    "    x = Dropout(0.1)(x)\n",
    "    return Model(input, x)\n",
    "\n",
    "\n",
    "def compute_accuracy(y_true, y_pred):\n",
    "    '''Compute classification accuracy with a fixed threshold on distances.\n",
    "    '''\n",
    "    pred = y_pred.ravel() < 0.5\n",
    "    return np.mean(pred == y_true)\n",
    "\n",
    "\n",
    "def accuracy(y_true, y_pred):\n",
    "    '''Compute classification accuracy with a fixed threshold on distances.\n",
    "    '''\n",
    "    return K.mean(K.equal(y_true, K.cast(y_pred < 0.5, y_true.dtype)))"
   ]
  },
  {
   "cell_type": "markdown",
   "metadata": {},
   "source": [
    "# Loading data"
   ]
  },
  {
   "cell_type": "code",
   "execution_count": 5,
   "metadata": {
    "collapsed": true
   },
   "outputs": [],
   "source": [
    "# the data, split between train and test sets\n",
    "(x_train, y_train), (x_test, y_test) = mnist.load_data()\n",
    "x_train = x_train.astype('float32')\n",
    "x_test = x_test.astype('float32')\n",
    "x_train /= 255\n",
    "x_test /= 255\n",
    "input_shape = x_train.shape[1:]\n",
    "\n",
    "# create training+test positive and negative pairs\n",
    "digit_indices = [np.where(y_train == i)[0] for i in range(num_classes)]\n",
    "tr_pairs, tr_y, tr_c1, tr_c2 = create_pairs_multitask(x_train, digit_indices)\n",
    "\n",
    "digit_indices = [np.where(y_test == i)[0] for i in range(num_classes)]\n",
    "te_pairs, te_y, te_c1, te_c2 = create_pairs_multitask(x_test, digit_indices)\n",
    "\n",
    "tr_c1, tr_c2 = to_categorical(tr_c1), to_categorical(tr_c2)\n",
    "te_c1, te_c2 = to_categorical(te_c1), to_categorical(te_c2)"
   ]
  },
  {
   "cell_type": "markdown",
   "metadata": {},
   "source": [
    "# Defining network"
   ]
  },
  {
   "cell_type": "code",
   "execution_count": 6,
   "metadata": {
    "collapsed": true
   },
   "outputs": [],
   "source": [
    "# network definition\n",
    "base_network = create_base_network(input_shape)\n",
    "\n",
    "input_a = Input(shape=input_shape)\n",
    "input_b = Input(shape=input_shape)\n",
    "\n",
    "processed_a = base_network(input_a)\n",
    "processed_b = base_network(input_b)\n",
    "\n",
    "distance = Lambda(euclidean_distance,\n",
    "                  output_shape=eucl_dist_output_shape)([processed_a, processed_b])\n",
    "\n",
    "model = Model([input_a, input_b], distance)"
   ]
  },
  {
   "cell_type": "code",
   "execution_count": 7,
   "metadata": {},
   "outputs": [
    {
     "name": "stdout",
     "output_type": "stream",
     "text": [
      "__________________________________________________________________________________________________\n",
      "Layer (type)                    Output Shape         Param #     Connected to                     \n",
      "==================================================================================================\n",
      "input_2 (InputLayer)            (None, 28, 28)       0                                            \n",
      "__________________________________________________________________________________________________\n",
      "input_3 (InputLayer)            (None, 28, 28)       0                                            \n",
      "__________________________________________________________________________________________________\n",
      "model_1 (Model)                 (None, 64)           50240       input_2[0][0]                    \n",
      "                                                                 input_3[0][0]                    \n",
      "__________________________________________________________________________________________________\n",
      "lambda_1 (Lambda)               (None, 1)            0           model_1[1][0]                    \n",
      "                                                                 model_1[2][0]                    \n",
      "==================================================================================================\n",
      "Total params: 50,240\n",
      "Trainable params: 50,240\n",
      "Non-trainable params: 0\n",
      "__________________________________________________________________________________________________\n"
     ]
    }
   ],
   "source": [
    "model.summary()"
   ]
  },
  {
   "cell_type": "markdown",
   "metadata": {},
   "source": [
    "# Training"
   ]
  },
  {
   "cell_type": "code",
   "execution_count": 8,
   "metadata": {},
   "outputs": [
    {
     "name": "stdout",
     "output_type": "stream",
     "text": [
      "Train on 108400 samples, validate on 17820 samples\n",
      "Epoch 1/10\n",
      "108400/108400 [==============================] - 4s 41us/step - loss: 0.1922 - val_loss: 0.1185\n",
      "Epoch 2/10\n",
      "108400/108400 [==============================] - 4s 38us/step - loss: 0.1597 - val_loss: 0.1181\n",
      "Epoch 3/10\n",
      "108400/108400 [==============================] - 4s 37us/step - loss: 0.1551 - val_loss: 0.1128\n",
      "Epoch 4/10\n",
      "108400/108400 [==============================] - 4s 39us/step - loss: 0.1541 - val_loss: 0.1166\n",
      "Epoch 5/10\n",
      "108400/108400 [==============================] - 4s 36us/step - loss: 0.1512 - val_loss: 0.1126\n",
      "Epoch 6/10\n",
      "108400/108400 [==============================] - 4s 38us/step - loss: 0.1521 - val_loss: 0.1131\n",
      "Epoch 7/10\n",
      "108400/108400 [==============================] - 4s 39us/step - loss: 0.1507 - val_loss: 0.1169\n",
      "Epoch 8/10\n",
      "108400/108400 [==============================] - 5s 42us/step - loss: 0.1505 - val_loss: 0.1137\n",
      "Epoch 9/10\n",
      "108400/108400 [==============================] - 5s 43us/step - loss: 0.1509 - val_loss: 0.1204\n",
      "Epoch 10/10\n",
      "108400/108400 [==============================] - 4s 37us/step - loss: 0.1501 - val_loss: 0.1214\n"
     ]
    },
    {
     "data": {
      "text/plain": [
       "<keras.callbacks.History at 0x11162efd0>"
      ]
     },
     "execution_count": 8,
     "metadata": {},
     "output_type": "execute_result"
    }
   ],
   "source": [
    "# train\n",
    "rms = RMSprop()\n",
    "model.compile(loss=contrastive_loss, optimizer=rms)\n",
    "model.fit([tr_pairs[:, 0], tr_pairs[:, 1]], tr_y,\n",
    "          batch_size=128,\n",
    "          epochs=10,\n",
    "          validation_data=([te_pairs[:, 0], te_pairs[:, 1]], te_y))"
   ]
  },
  {
   "cell_type": "code",
   "execution_count": 9,
   "metadata": {},
   "outputs": [
    {
     "name": "stdout",
     "output_type": "stream",
     "text": [
      "* Accuracy on training set: 85.47%\n",
      "* Accuracy on test set: 85.61%\n"
     ]
    }
   ],
   "source": [
    "# compute final accuracy on training and test sets\n",
    "y_pred = model.predict([tr_pairs[:, 0], tr_pairs[:, 1]])\n",
    "tr_acc = compute_accuracy(tr_y, y_pred)\n",
    "y_pred = model.predict([te_pairs[:, 0], te_pairs[:, 1]])\n",
    "te_acc = compute_accuracy(te_y, y_pred)\n",
    "\n",
    "print('* Accuracy on training set: %0.2f%%' % (100 * tr_acc))\n",
    "print('* Accuracy on test set: %0.2f%%' % (100 * te_acc))"
   ]
  },
  {
   "cell_type": "markdown",
   "metadata": {},
   "source": [
    "# Defining multitask network"
   ]
  },
  {
   "cell_type": "code",
   "execution_count": 10,
   "metadata": {
    "collapsed": true
   },
   "outputs": [],
   "source": [
    "base_network = create_base_network(input_shape)\n",
    "\n",
    "input_a = Input(shape=input_shape)\n",
    "input_b = Input(shape=input_shape)\n",
    "\n",
    "processed_a = base_network(input_a)\n",
    "processed_b = base_network(input_b)\n",
    "\n",
    "distance = Lambda(euclidean_distance,\n",
    "                  output_shape=eucl_dist_output_shape)([processed_a, processed_b])\n",
    "\n",
    "class_1_out = Dense(num_classes, activation = 'softmax')(processed_a)\n",
    "class_2_out = Dense(num_classes, activation = 'softmax')(processed_b)\n",
    "\n",
    "model = Model([input_a, input_b], [distance, class_1_out, class_2_out])"
   ]
  },
  {
   "cell_type": "code",
   "execution_count": 11,
   "metadata": {},
   "outputs": [
    {
     "name": "stdout",
     "output_type": "stream",
     "text": [
      "__________________________________________________________________________________________________\n",
      "Layer (type)                    Output Shape         Param #     Connected to                     \n",
      "==================================================================================================\n",
      "input_5 (InputLayer)            (None, 28, 28)       0                                            \n",
      "__________________________________________________________________________________________________\n",
      "input_6 (InputLayer)            (None, 28, 28)       0                                            \n",
      "__________________________________________________________________________________________________\n",
      "model_3 (Model)                 (None, 64)           50240       input_5[0][0]                    \n",
      "                                                                 input_6[0][0]                    \n",
      "__________________________________________________________________________________________________\n",
      "lambda_2 (Lambda)               (None, 1)            0           model_3[1][0]                    \n",
      "                                                                 model_3[2][0]                    \n",
      "__________________________________________________________________________________________________\n",
      "dense_3 (Dense)                 (None, 10)           650         model_3[1][0]                    \n",
      "__________________________________________________________________________________________________\n",
      "dense_4 (Dense)                 (None, 10)           650         model_3[2][0]                    \n",
      "==================================================================================================\n",
      "Total params: 51,540\n",
      "Trainable params: 51,540\n",
      "Non-trainable params: 0\n",
      "__________________________________________________________________________________________________\n"
     ]
    }
   ],
   "source": [
    "model.summary()"
   ]
  },
  {
   "cell_type": "markdown",
   "metadata": {},
   "source": [
    "# Training"
   ]
  },
  {
   "cell_type": "code",
   "execution_count": 12,
   "metadata": {},
   "outputs": [
    {
     "name": "stdout",
     "output_type": "stream",
     "text": [
      "Train on 108400 samples, validate on 17820 samples\n",
      "Epoch 1/10\n",
      "108400/108400 [==============================] - 6s 52us/step - loss: 1.6357 - lambda_2_loss: 0.1835 - dense_3_loss: 0.7263 - dense_4_loss: 0.7259 - val_loss: 1.5624 - val_lambda_2_loss: 0.1175 - val_dense_3_loss: 0.7225 - val_dense_4_loss: 0.7224\n",
      "Epoch 2/10\n",
      "108400/108400 [==============================] - 5s 48us/step - loss: 1.5919 - lambda_2_loss: 0.1507 - dense_3_loss: 0.7206 - dense_4_loss: 0.7207 - val_loss: 1.5435 - val_lambda_2_loss: 0.1068 - val_dense_3_loss: 0.7183 - val_dense_4_loss: 0.7184\n",
      "Epoch 3/10\n",
      "108400/108400 [==============================] - 5s 50us/step - loss: 1.5834 - lambda_2_loss: 0.1466 - dense_3_loss: 0.7184 - dense_4_loss: 0.7184 - val_loss: 1.5377 - val_lambda_2_loss: 0.1044 - val_dense_3_loss: 0.7166 - val_dense_4_loss: 0.7167\n",
      "Epoch 4/10\n",
      "108400/108400 [==============================] - 5s 47us/step - loss: 1.5793 - lambda_2_loss: 0.1444 - dense_3_loss: 0.7174 - dense_4_loss: 0.7175 - val_loss: 1.5355 - val_lambda_2_loss: 0.1037 - val_dense_3_loss: 0.7159 - val_dense_4_loss: 0.7159\n",
      "Epoch 5/10\n",
      "108400/108400 [==============================] - 5s 47us/step - loss: 1.5775 - lambda_2_loss: 0.1436 - dense_3_loss: 0.7170 - dense_4_loss: 0.7170 - val_loss: 1.5382 - val_lambda_2_loss: 0.1069 - val_dense_3_loss: 0.7156 - val_dense_4_loss: 0.7156\n",
      "Epoch 6/10\n",
      "108400/108400 [==============================] - 5s 47us/step - loss: 1.5762 - lambda_2_loss: 0.1428 - dense_3_loss: 0.7167 - dense_4_loss: 0.7167 - val_loss: 1.5298 - val_lambda_2_loss: 0.0996 - val_dense_3_loss: 0.7151 - val_dense_4_loss: 0.7151\n",
      "Epoch 7/10\n",
      "108400/108400 [==============================] - 6s 52us/step - loss: 1.5756 - lambda_2_loss: 0.1425 - dense_3_loss: 0.7165 - dense_4_loss: 0.7165 - val_loss: 1.5317 - val_lambda_2_loss: 0.1014 - val_dense_3_loss: 0.7151 - val_dense_4_loss: 0.7151\n",
      "Epoch 8/10\n",
      "108400/108400 [==============================] - 6s 57us/step - loss: 1.5758 - lambda_2_loss: 0.1430 - dense_3_loss: 0.7164 - dense_4_loss: 0.7164 - val_loss: 1.5359 - val_lambda_2_loss: 0.1058 - val_dense_3_loss: 0.7150 - val_dense_4_loss: 0.7150\n",
      "Epoch 9/10\n",
      "108400/108400 [==============================] - 7s 62us/step - loss: 1.5752 - lambda_2_loss: 0.1425 - dense_3_loss: 0.7164 - dense_4_loss: 0.7164 - val_loss: 1.5333 - val_lambda_2_loss: 0.1034 - val_dense_3_loss: 0.7149 - val_dense_4_loss: 0.7150\n",
      "Epoch 10/10\n",
      "108400/108400 [==============================] - 7s 65us/step - loss: 1.5752 - lambda_2_loss: 0.1425 - dense_3_loss: 0.7163 - dense_4_loss: 0.7164 - val_loss: 1.5299 - val_lambda_2_loss: 0.1002 - val_dense_3_loss: 0.7148 - val_dense_4_loss: 0.7148\n"
     ]
    },
    {
     "data": {
      "text/plain": [
       "<keras.callbacks.History at 0x112024590>"
      ]
     },
     "execution_count": 12,
     "metadata": {},
     "output_type": "execute_result"
    }
   ],
   "source": [
    "# train\n",
    "rms = RMSprop()\n",
    "model.compile(loss=contrastive_loss, optimizer=rms)\n",
    "model.fit([tr_pairs[:, 0], tr_pairs[:, 1]], [tr_y, tr_c1, tr_c2],\n",
    "          batch_size=128,\n",
    "          epochs=10,\n",
    "          validation_data=([te_pairs[:, 0], te_pairs[:, 1]], [te_y, te_c1, te_c2]))"
   ]
  },
  {
   "cell_type": "code",
   "execution_count": 13,
   "metadata": {},
   "outputs": [
    {
     "name": "stdout",
     "output_type": "stream",
     "text": [
      "* Accuracy on training set: 88.49%\n",
      "* Accuracy on test set: 88.54%\n"
     ]
    }
   ],
   "source": [
    "# compute final accuracy on training and test sets\n",
    "y_pred = model.predict([tr_pairs[:, 0], tr_pairs[:, 1]])[0]\n",
    "tr_acc = compute_accuracy(tr_y, y_pred)\n",
    "y_pred = model.predict([te_pairs[:, 0], te_pairs[:, 1]])[0]\n",
    "te_acc = compute_accuracy(te_y, y_pred)\n",
    "\n",
    "print('* Accuracy on training set: %0.2f%%' % (100 * tr_acc))\n",
    "print('* Accuracy on test set: %0.2f%%' % (100 * te_acc))"
   ]
  }
 ],
 "metadata": {
  "kernelspec": {
   "display_name": "Python 2",
   "language": "python",
   "name": "python2"
  },
  "language_info": {
   "codemirror_mode": {
    "name": "ipython",
    "version": 2
   },
   "file_extension": ".py",
   "mimetype": "text/x-python",
   "name": "python",
   "nbconvert_exporter": "python",
   "pygments_lexer": "ipython2",
   "version": "2.7.14"
  }
 },
 "nbformat": 4,
 "nbformat_minor": 2
}
